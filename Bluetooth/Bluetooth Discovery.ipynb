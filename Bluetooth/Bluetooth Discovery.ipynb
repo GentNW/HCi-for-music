{
 "cells": [
  {
   "cell_type": "code",
   "execution_count": 2,
   "id": "53aaac91",
   "metadata": {},
   "outputs": [],
   "source": [
    "import bluetooth\n",
    "import csv"
   ]
  },
  {
   "cell_type": "code",
   "execution_count": 9,
   "id": "bc7c44a6",
   "metadata": {},
   "outputs": [
    {
     "name": "stdout",
     "output_type": "stream",
     "text": [
      "found 0 devices\n"
     ]
    }
   ],
   "source": [
    "index = 1\n",
    "nearby_devices = bluetooth.discover_devices(lookup_names=True)\n",
    "print(\"found %d devices\" % len(nearby_devices))\n",
    "\n",
    "# Define the filename for the CSV file\n",
    "filename = 'Known_users.csv'\n",
    "with open(filename, mode='r') as csv_file:\n",
    "    content = csv.reader(filename)\n",
    "    for addr, name in nearby_devices:\n",
    "        if nearby_devices == addr+name:\n",
    "            print(\"welcome\"+name)\n",
    "        else:\n",
    "            with open(filename, mode='w',newline='') as csv_file:\n",
    "                # Create a writer object\n",
    "                writer = csv.writer(csv_file)\n",
    "                for addr, name in nearby_devices:\n",
    "                    # Write the data to the CSV file\n",
    "                    writer.writerow([index,name])\n",
    "                    index = index + 1\n",
    "                    print(\" %s - %s\" % (addr, name))\n"
   ]
  },
  {
   "cell_type": "code",
   "execution_count": null,
   "id": "b1b828b4",
   "metadata": {},
   "outputs": [],
   "source": []
  }
 ],
 "metadata": {
  "kernelspec": {
   "display_name": "Python 3 (ipykernel)",
   "language": "python",
   "name": "python3"
  },
  "language_info": {
   "codemirror_mode": {
    "name": "ipython",
    "version": 3
   },
   "file_extension": ".py",
   "mimetype": "text/x-python",
   "name": "python",
   "nbconvert_exporter": "python",
   "pygments_lexer": "ipython3",
   "version": "3.9.7"
  }
 },
 "nbformat": 4,
 "nbformat_minor": 5
}
